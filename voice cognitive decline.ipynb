{
  "nbformat": 4,
  "nbformat_minor": 0,
  "metadata": {
    "colab": {
      "provenance": []
    },
    "kernelspec": {
      "name": "python3",
      "display_name": "Python 3"
    },
    "language_info": {
      "name": "python"
    }
  },
  "cells": [
    {
      "cell_type": "code",
      "execution_count": 2,
      "metadata": {
        "colab": {
          "base_uri": "https://localhost:8080/"
        },
        "id": "chKvo8TRX0G4",
        "outputId": "df69ba23-f9af-4bfd-8a75-f8be2128f031"
      },
      "outputs": [
        {
          "output_type": "stream",
          "name": "stdout",
          "text": [
            "Requirement already satisfied: openai-whisper in /usr/local/lib/python3.11/dist-packages (20240930)\n",
            "Requirement already satisfied: numba in /usr/local/lib/python3.11/dist-packages (from openai-whisper) (0.60.0)\n",
            "Requirement already satisfied: numpy in /usr/local/lib/python3.11/dist-packages (from openai-whisper) (2.0.2)\n",
            "Requirement already satisfied: torch in /usr/local/lib/python3.11/dist-packages (from openai-whisper) (2.6.0+cu124)\n",
            "Requirement already satisfied: tqdm in /usr/local/lib/python3.11/dist-packages (from openai-whisper) (4.67.1)\n",
            "Requirement already satisfied: more-itertools in /usr/local/lib/python3.11/dist-packages (from openai-whisper) (10.6.0)\n",
            "Requirement already satisfied: tiktoken in /usr/local/lib/python3.11/dist-packages (from openai-whisper) (0.9.0)\n",
            "Requirement already satisfied: triton>=2.0.0 in /usr/local/lib/python3.11/dist-packages (from openai-whisper) (3.2.0)\n",
            "Requirement already satisfied: llvmlite<0.44,>=0.43.0dev0 in /usr/local/lib/python3.11/dist-packages (from numba->openai-whisper) (0.43.0)\n",
            "Requirement already satisfied: regex>=2022.1.18 in /usr/local/lib/python3.11/dist-packages (from tiktoken->openai-whisper) (2024.11.6)\n",
            "Requirement already satisfied: requests>=2.26.0 in /usr/local/lib/python3.11/dist-packages (from tiktoken->openai-whisper) (2.32.3)\n",
            "Requirement already satisfied: filelock in /usr/local/lib/python3.11/dist-packages (from torch->openai-whisper) (3.18.0)\n",
            "Requirement already satisfied: typing-extensions>=4.10.0 in /usr/local/lib/python3.11/dist-packages (from torch->openai-whisper) (4.13.1)\n",
            "Requirement already satisfied: networkx in /usr/local/lib/python3.11/dist-packages (from torch->openai-whisper) (3.4.2)\n",
            "Requirement already satisfied: jinja2 in /usr/local/lib/python3.11/dist-packages (from torch->openai-whisper) (3.1.6)\n",
            "Requirement already satisfied: fsspec in /usr/local/lib/python3.11/dist-packages (from torch->openai-whisper) (2025.3.2)\n",
            "Requirement already satisfied: nvidia-cuda-nvrtc-cu12==12.4.127 in /usr/local/lib/python3.11/dist-packages (from torch->openai-whisper) (12.4.127)\n",
            "Requirement already satisfied: nvidia-cuda-runtime-cu12==12.4.127 in /usr/local/lib/python3.11/dist-packages (from torch->openai-whisper) (12.4.127)\n",
            "Requirement already satisfied: nvidia-cuda-cupti-cu12==12.4.127 in /usr/local/lib/python3.11/dist-packages (from torch->openai-whisper) (12.4.127)\n",
            "Requirement already satisfied: nvidia-cudnn-cu12==9.1.0.70 in /usr/local/lib/python3.11/dist-packages (from torch->openai-whisper) (9.1.0.70)\n",
            "Requirement already satisfied: nvidia-cublas-cu12==12.4.5.8 in /usr/local/lib/python3.11/dist-packages (from torch->openai-whisper) (12.4.5.8)\n",
            "Requirement already satisfied: nvidia-cufft-cu12==11.2.1.3 in /usr/local/lib/python3.11/dist-packages (from torch->openai-whisper) (11.2.1.3)\n",
            "Requirement already satisfied: nvidia-curand-cu12==10.3.5.147 in /usr/local/lib/python3.11/dist-packages (from torch->openai-whisper) (10.3.5.147)\n",
            "Requirement already satisfied: nvidia-cusolver-cu12==11.6.1.9 in /usr/local/lib/python3.11/dist-packages (from torch->openai-whisper) (11.6.1.9)\n",
            "Requirement already satisfied: nvidia-cusparse-cu12==12.3.1.170 in /usr/local/lib/python3.11/dist-packages (from torch->openai-whisper) (12.3.1.170)\n",
            "Requirement already satisfied: nvidia-cusparselt-cu12==0.6.2 in /usr/local/lib/python3.11/dist-packages (from torch->openai-whisper) (0.6.2)\n",
            "Requirement already satisfied: nvidia-nccl-cu12==2.21.5 in /usr/local/lib/python3.11/dist-packages (from torch->openai-whisper) (2.21.5)\n",
            "Requirement already satisfied: nvidia-nvtx-cu12==12.4.127 in /usr/local/lib/python3.11/dist-packages (from torch->openai-whisper) (12.4.127)\n",
            "Requirement already satisfied: nvidia-nvjitlink-cu12==12.4.127 in /usr/local/lib/python3.11/dist-packages (from torch->openai-whisper) (12.4.127)\n",
            "Requirement already satisfied: sympy==1.13.1 in /usr/local/lib/python3.11/dist-packages (from torch->openai-whisper) (1.13.1)\n",
            "Requirement already satisfied: mpmath<1.4,>=1.1.0 in /usr/local/lib/python3.11/dist-packages (from sympy==1.13.1->torch->openai-whisper) (1.3.0)\n",
            "Requirement already satisfied: charset-normalizer<4,>=2 in /usr/local/lib/python3.11/dist-packages (from requests>=2.26.0->tiktoken->openai-whisper) (3.4.1)\n",
            "Requirement already satisfied: idna<4,>=2.5 in /usr/local/lib/python3.11/dist-packages (from requests>=2.26.0->tiktoken->openai-whisper) (3.10)\n",
            "Requirement already satisfied: urllib3<3,>=1.21.1 in /usr/local/lib/python3.11/dist-packages (from requests>=2.26.0->tiktoken->openai-whisper) (2.3.0)\n",
            "Requirement already satisfied: certifi>=2017.4.17 in /usr/local/lib/python3.11/dist-packages (from requests>=2.26.0->tiktoken->openai-whisper) (2025.1.31)\n",
            "Requirement already satisfied: MarkupSafe>=2.0 in /usr/local/lib/python3.11/dist-packages (from jinja2->torch->openai-whisper) (3.0.2)\n",
            "Requirement already satisfied: librosa in /usr/local/lib/python3.11/dist-packages (0.11.0)\n",
            "Requirement already satisfied: numpy in /usr/local/lib/python3.11/dist-packages (2.0.2)\n",
            "Requirement already satisfied: pandas in /usr/local/lib/python3.11/dist-packages (2.2.2)\n",
            "Requirement already satisfied: matplotlib in /usr/local/lib/python3.11/dist-packages (3.10.0)\n",
            "Requirement already satisfied: scikit-learn in /usr/local/lib/python3.11/dist-packages (1.6.1)\n",
            "Requirement already satisfied: audioread>=2.1.9 in /usr/local/lib/python3.11/dist-packages (from librosa) (3.0.1)\n",
            "Requirement already satisfied: numba>=0.51.0 in /usr/local/lib/python3.11/dist-packages (from librosa) (0.60.0)\n",
            "Requirement already satisfied: scipy>=1.6.0 in /usr/local/lib/python3.11/dist-packages (from librosa) (1.14.1)\n",
            "Requirement already satisfied: joblib>=1.0 in /usr/local/lib/python3.11/dist-packages (from librosa) (1.4.2)\n",
            "Requirement already satisfied: decorator>=4.3.0 in /usr/local/lib/python3.11/dist-packages (from librosa) (4.4.2)\n",
            "Requirement already satisfied: soundfile>=0.12.1 in /usr/local/lib/python3.11/dist-packages (from librosa) (0.13.1)\n",
            "Requirement already satisfied: pooch>=1.1 in /usr/local/lib/python3.11/dist-packages (from librosa) (1.8.2)\n",
            "Requirement already satisfied: soxr>=0.3.2 in /usr/local/lib/python3.11/dist-packages (from librosa) (0.5.0.post1)\n",
            "Requirement already satisfied: typing_extensions>=4.1.1 in /usr/local/lib/python3.11/dist-packages (from librosa) (4.13.1)\n",
            "Requirement already satisfied: lazy_loader>=0.1 in /usr/local/lib/python3.11/dist-packages (from librosa) (0.4)\n",
            "Requirement already satisfied: msgpack>=1.0 in /usr/local/lib/python3.11/dist-packages (from librosa) (1.1.0)\n",
            "Requirement already satisfied: python-dateutil>=2.8.2 in /usr/local/lib/python3.11/dist-packages (from pandas) (2.8.2)\n",
            "Requirement already satisfied: pytz>=2020.1 in /usr/local/lib/python3.11/dist-packages (from pandas) (2025.2)\n",
            "Requirement already satisfied: tzdata>=2022.7 in /usr/local/lib/python3.11/dist-packages (from pandas) (2025.2)\n",
            "Requirement already satisfied: contourpy>=1.0.1 in /usr/local/lib/python3.11/dist-packages (from matplotlib) (1.3.1)\n",
            "Requirement already satisfied: cycler>=0.10 in /usr/local/lib/python3.11/dist-packages (from matplotlib) (0.12.1)\n",
            "Requirement already satisfied: fonttools>=4.22.0 in /usr/local/lib/python3.11/dist-packages (from matplotlib) (4.57.0)\n",
            "Requirement already satisfied: kiwisolver>=1.3.1 in /usr/local/lib/python3.11/dist-packages (from matplotlib) (1.4.8)\n",
            "Requirement already satisfied: packaging>=20.0 in /usr/local/lib/python3.11/dist-packages (from matplotlib) (24.2)\n",
            "Requirement already satisfied: pillow>=8 in /usr/local/lib/python3.11/dist-packages (from matplotlib) (11.1.0)\n",
            "Requirement already satisfied: pyparsing>=2.3.1 in /usr/local/lib/python3.11/dist-packages (from matplotlib) (3.2.3)\n",
            "Requirement already satisfied: threadpoolctl>=3.1.0 in /usr/local/lib/python3.11/dist-packages (from scikit-learn) (3.6.0)\n",
            "Requirement already satisfied: llvmlite<0.44,>=0.43.0dev0 in /usr/local/lib/python3.11/dist-packages (from numba>=0.51.0->librosa) (0.43.0)\n",
            "Requirement already satisfied: platformdirs>=2.5.0 in /usr/local/lib/python3.11/dist-packages (from pooch>=1.1->librosa) (4.3.7)\n",
            "Requirement already satisfied: requests>=2.19.0 in /usr/local/lib/python3.11/dist-packages (from pooch>=1.1->librosa) (2.32.3)\n",
            "Requirement already satisfied: six>=1.5 in /usr/local/lib/python3.11/dist-packages (from python-dateutil>=2.8.2->pandas) (1.17.0)\n",
            "Requirement already satisfied: cffi>=1.0 in /usr/local/lib/python3.11/dist-packages (from soundfile>=0.12.1->librosa) (1.17.1)\n",
            "Requirement already satisfied: pycparser in /usr/local/lib/python3.11/dist-packages (from cffi>=1.0->soundfile>=0.12.1->librosa) (2.22)\n",
            "Requirement already satisfied: charset-normalizer<4,>=2 in /usr/local/lib/python3.11/dist-packages (from requests>=2.19.0->pooch>=1.1->librosa) (3.4.1)\n",
            "Requirement already satisfied: idna<4,>=2.5 in /usr/local/lib/python3.11/dist-packages (from requests>=2.19.0->pooch>=1.1->librosa) (3.10)\n",
            "Requirement already satisfied: urllib3<3,>=1.21.1 in /usr/local/lib/python3.11/dist-packages (from requests>=2.19.0->pooch>=1.1->librosa) (2.3.0)\n",
            "Requirement already satisfied: certifi>=2017.4.17 in /usr/local/lib/python3.11/dist-packages (from requests>=2.19.0->pooch>=1.1->librosa) (2025.1.31)\n"
          ]
        }
      ],
      "source": [
        "!pip install -U openai-whisper\n",
        "!pip install librosa numpy pandas matplotlib scikit-learn\n"
      ]
    },
    {
      "cell_type": "code",
      "source": [
        "import os\n",
        "import librosa\n",
        "import numpy as np\n",
        "import pandas as pd\n",
        "import matplotlib.pyplot as plt\n",
        "import whisper\n",
        "from sklearn.ensemble import IsolationForest\n",
        "\n",
        "AUDIO_FOLDER = \"/content/audio_samples\"\n",
        "\n",
        "def extract_features(audio_path):\n",
        "    # Load audio\n",
        "    y, sr = librosa.load(audio_path, sr=16000)\n",
        "    duration = librosa.get_duration(y=y, sr=sr)\n",
        "\n",
        "    # Speech transcription\n",
        "    model = whisper.load_model(\"base\")\n",
        "    result = model.transcribe(audio_path)\n",
        "    transcript = result[\"text\"].lower()\n",
        "    words = transcript.split()\n",
        "    sentences = [s.strip() for s in transcript.split('.') if len(s.strip()) > 0]\n",
        "\n",
        "    # Basic counts\n",
        "    word_count = len(words)\n",
        "    sentence_count = len(sentences)\n",
        "\n",
        "    # Speech rate features\n",
        "    speech_rate = word_count / duration if duration else 0\n",
        "    avg_words_per_sentence = word_count / sentence_count if sentence_count else 0\n",
        "\n",
        "    # Pause features\n",
        "    pause_segments = librosa.effects.split(y, top_db=30)\n",
        "    pause_count = len(pause_segments)\n",
        "    pauses_per_sentence = pause_count / sentence_count if sentence_count else 0\n",
        "\n",
        "    # Hesitation features\n",
        "    hesitation_words = [\"uh\", \"um\", \"ah\", \"er\", \"hm\", \"like\", \"you know\"]\n",
        "    hesitations = sum(transcript.count(word) for word in hesitation_words)\n",
        "\n",
        "    # Word recall issues\n",
        "    repeated_words = sum(1 for i in range(len(words)-1) if words[i] == words[i+1])\n",
        "    unique_word_ratio = len(set(words)) / word_count if word_count else 0\n",
        "\n",
        "    # Pitch variability\n",
        "    pitches = librosa.yin(y, fmin=50, fmax=500)\n",
        "    pitch_variability = np.std(pitches) if len(pitches) > 0 else 0\n",
        "\n",
        "    # Naming/word-association approximation (using repeated words as proxy)\n",
        "    naming_difficulty = repeated_words / word_count if word_count else 0\n",
        "\n",
        "    return {\n",
        "        \"file\": os.path.basename(audio_path),\n",
        "        \"duration\": duration,\n",
        "        \"word_count\": word_count,\n",
        "        \"sentence_count\": sentence_count,\n",
        "        \"speech_rate\": speech_rate,\n",
        "        \"avg_words_per_sentence\": avg_words_per_sentence,\n",
        "        \"hesitations\": hesitations,\n",
        "        \"pause_count\": pause_count,\n",
        "        \"pauses_per_sentence\": pauses_per_sentence,\n",
        "        \"repeated_words\": repeated_words,\n",
        "        \"unique_word_ratio\": unique_word_ratio,\n",
        "        \"pitch_variability\": pitch_variability,\n",
        "        \"naming_difficulty\": naming_difficulty\n",
        "    }\n",
        "\n",
        "def process_all_files():\n",
        "    features = []\n",
        "    for filename in os.listdir(AUDIO_FOLDER):\n",
        "        if filename.endswith(\".wav\"):\n",
        "            path = os.path.join(AUDIO_FOLDER, filename)\n",
        "            print(f\"Processing {filename}...\")\n",
        "            try:\n",
        "                feats = extract_features(path)\n",
        "                features.append(feats)\n",
        "            except Exception as e:\n",
        "                print(f\"Error processing {filename}: {str(e)}\")\n",
        "    return pd.DataFrame(features)\n",
        "\n",
        "def detect_risk(df):\n",
        "    model = IsolationForest(contamination=0.2, random_state=42)\n",
        "    features = [\n",
        "        \"speech_rate\",\n",
        "        \"hesitations\",\n",
        "        \"pause_count\",\n",
        "        \"pauses_per_sentence\",\n",
        "        \"repeated_words\",\n",
        "        \"pitch_variability\",\n",
        "        \"naming_difficulty\"\n",
        "    ]\n",
        "    X = df[features]\n",
        "    df[\"risk\"] = model.fit_predict(X)\n",
        "    df[\"risk\"] = df[\"risk\"].map({1: \"Normal\", -1: \"At Risk\"})\n",
        "    return df\n",
        "\n",
        "def plot_results(df):\n",
        "    # Plot speech features\n",
        "    plt.figure(figsize=(15, 8))\n",
        "\n",
        "    plt.subplot(2, 1, 1)\n",
        "    df[[\"speech_rate\", \"hesitations\", \"pause_count\"]].plot(kind=\"bar\", ax=plt.gca())\n",
        "    plt.title(\"Core Speech Features\")\n",
        "    plt.ylabel(\"Value\")\n",
        "\n",
        "    plt.subplot(2, 1, 2)\n",
        "    df[[\"pauses_per_sentence\", \"repeated_words\", \"pitch_variability\"]].plot(kind=\"bar\", ax=plt.gca())\n",
        "    plt.title(\"Additional Speech Features\")\n",
        "    plt.xlabel(\"Audio Sample\")\n",
        "    plt.ylabel(\"Value\")\n",
        "\n",
        "    plt.tight_layout()\n",
        "    plt.savefig(\"speech_features_analysis.png\")\n",
        "    plt.show()\n",
        "\n",
        "if not os.path.exists(AUDIO_FOLDER):\n",
        "    print(f\"Please upload audio files to {AUDIO_FOLDER} first\")\n",
        "else:\n",
        "    df = process_all_files()\n",
        "    if not df.empty:\n",
        "        df = detect_risk(df)\n",
        "        df.to_csv(\"speech_analysis_results.csv\", index=False)\n",
        "        print(\"\\nAnalysis Results:\")\n",
        "        print(df)\n",
        "        plot_results(df)\n",
        "    else:\n",
        "        print(\"No valid WAV audio files found to process\")"
      ],
      "metadata": {
        "colab": {
          "base_uri": "https://localhost:8080/",
          "height": 1000
        },
        "id": "j1brTarBjZpu",
        "outputId": "6d7b4833-dd17-4ee4-87f0-f98667dd857b"
      },
      "execution_count": 2,
      "outputs": [
        {
          "output_type": "stream",
          "name": "stdout",
          "text": [
            "Processing Sample 6 (1).wav...\n"
          ]
        },
        {
          "output_type": "stream",
          "name": "stderr",
          "text": [
            "/usr/local/lib/python3.11/dist-packages/whisper/transcribe.py:126: UserWarning: FP16 is not supported on CPU; using FP32 instead\n",
            "  warnings.warn(\"FP16 is not supported on CPU; using FP32 instead\")\n"
          ]
        },
        {
          "output_type": "stream",
          "name": "stdout",
          "text": [
            "Processing Sample 7 (1).wav...\n"
          ]
        },
        {
          "output_type": "stream",
          "name": "stderr",
          "text": [
            "/usr/local/lib/python3.11/dist-packages/whisper/transcribe.py:126: UserWarning: FP16 is not supported on CPU; using FP32 instead\n",
            "  warnings.warn(\"FP16 is not supported on CPU; using FP32 instead\")\n"
          ]
        },
        {
          "output_type": "stream",
          "name": "stdout",
          "text": [
            "Processing Sample 5 (1).wav...\n"
          ]
        },
        {
          "output_type": "stream",
          "name": "stderr",
          "text": [
            "/usr/local/lib/python3.11/dist-packages/whisper/transcribe.py:126: UserWarning: FP16 is not supported on CPU; using FP32 instead\n",
            "  warnings.warn(\"FP16 is not supported on CPU; using FP32 instead\")\n"
          ]
        },
        {
          "output_type": "stream",
          "name": "stdout",
          "text": [
            "Processing Sample 8 (1).wav...\n"
          ]
        },
        {
          "output_type": "stream",
          "name": "stderr",
          "text": [
            "/usr/local/lib/python3.11/dist-packages/whisper/transcribe.py:126: UserWarning: FP16 is not supported on CPU; using FP32 instead\n",
            "  warnings.warn(\"FP16 is not supported on CPU; using FP32 instead\")\n"
          ]
        },
        {
          "output_type": "stream",
          "name": "stdout",
          "text": [
            "Processing Sample 3 (1).wav...\n"
          ]
        },
        {
          "output_type": "stream",
          "name": "stderr",
          "text": [
            "/usr/local/lib/python3.11/dist-packages/whisper/transcribe.py:126: UserWarning: FP16 is not supported on CPU; using FP32 instead\n",
            "  warnings.warn(\"FP16 is not supported on CPU; using FP32 instead\")\n"
          ]
        },
        {
          "output_type": "stream",
          "name": "stdout",
          "text": [
            "Processing Sample 2 (1).wav...\n"
          ]
        },
        {
          "output_type": "stream",
          "name": "stderr",
          "text": [
            "/usr/local/lib/python3.11/dist-packages/whisper/transcribe.py:126: UserWarning: FP16 is not supported on CPU; using FP32 instead\n",
            "  warnings.warn(\"FP16 is not supported on CPU; using FP32 instead\")\n"
          ]
        },
        {
          "output_type": "stream",
          "name": "stdout",
          "text": [
            "Processing Sample 1 (1).wav...\n"
          ]
        },
        {
          "output_type": "stream",
          "name": "stderr",
          "text": [
            "/usr/local/lib/python3.11/dist-packages/whisper/transcribe.py:126: UserWarning: FP16 is not supported on CPU; using FP32 instead\n",
            "  warnings.warn(\"FP16 is not supported on CPU; using FP32 instead\")\n"
          ]
        },
        {
          "output_type": "stream",
          "name": "stdout",
          "text": [
            "Processing Sample 4 (1).wav...\n"
          ]
        },
        {
          "output_type": "stream",
          "name": "stderr",
          "text": [
            "/usr/local/lib/python3.11/dist-packages/whisper/transcribe.py:126: UserWarning: FP16 is not supported on CPU; using FP32 instead\n",
            "  warnings.warn(\"FP16 is not supported on CPU; using FP32 instead\")\n"
          ]
        },
        {
          "output_type": "stream",
          "name": "stdout",
          "text": [
            "\n",
            "Analysis Results:\n",
            "               file   duration  word_count  sentence_count  speech_rate  \\\n",
            "0  Sample 6 (1).wav  18.356250          43               6     2.342526   \n",
            "1  Sample 7 (1).wav  96.192000         160              26     1.663340   \n",
            "2  Sample 5 (1).wav  10.042687          29               2     2.887673   \n",
            "3  Sample 8 (1).wav   5.760000          13               2     2.256944   \n",
            "4  Sample 3 (1).wav  10.042687          26               4     2.588948   \n",
            "5  Sample 2 (1).wav  10.042687          35               3     3.485123   \n",
            "6  Sample 1 (1).wav  10.042687          22               3     2.190649   \n",
            "7  Sample 4 (1).wav  10.042687          26               3     2.588948   \n",
            "\n",
            "   avg_words_per_sentence  hesitations  pause_count  pauses_per_sentence  \\\n",
            "0                7.166667            2           14             2.333333   \n",
            "1                6.153846           11           44             1.692308   \n",
            "2               14.500000            2            4             2.000000   \n",
            "3                6.500000            0            3             1.500000   \n",
            "4                6.500000            2            6             1.500000   \n",
            "5               11.666667            3            9             3.000000   \n",
            "6                7.333333            3            6             2.000000   \n",
            "7                8.666667            3            8             2.666667   \n",
            "\n",
            "   repeated_words  unique_word_ratio  pitch_variability  naming_difficulty  \\\n",
            "0               0           0.906977         120.809546                0.0   \n",
            "1               0           0.725000          65.037946                0.0   \n",
            "2               0           0.862069          99.562594                0.0   \n",
            "3               0           1.000000         107.916342                0.0   \n",
            "4               0           0.923077         137.692612                0.0   \n",
            "5               0           0.857143         128.448311                0.0   \n",
            "6               0           0.954545          89.233023                0.0   \n",
            "7               0           0.884615         131.683872                0.0   \n",
            "\n",
            "      risk  \n",
            "0   Normal  \n",
            "1  At Risk  \n",
            "2   Normal  \n",
            "3   Normal  \n",
            "4   Normal  \n",
            "5  At Risk  \n",
            "6   Normal  \n",
            "7   Normal  \n"
          ]
        },
        {
          "output_type": "display_data",
          "data": {
            "text/plain": [
              "<Figure size 1500x800 with 2 Axes>"
            ],
            "image/png": "[encoded data removed]"
          },
          "metadata": {}
        }
      ]
    }
  ]
}